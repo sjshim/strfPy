{
 "cells": [
  {
   "cell_type": "markdown",
   "metadata": {},
   "source": [
    " This exercise uses fake neurons to test the effectivemess of cross-correlation\n",
    " measures for assessing functional connectivity."
   ]
  },
  {
   "cell_type": "code",
   "execution_count": 1,
   "metadata": {
    "collapsed": true
   },
   "outputs": [],
   "source": [
    "import numpy as np"
   ]
  },
  {
   "cell_type": "code",
   "execution_count": 2,
   "metadata": {
    "collapsed": true
   },
   "outputs": [],
   "source": [
    "## Generate a stimulus\n",
    "tlength = 15000            # The stimulus last 15 seconds at 1kHz sampling rate\n",
    "stim = np.random.randn(1,tlength)    # It is gaussian WN"
   ]
  },
  {
   "cell_type": "markdown",
   "metadata": {},
   "source": [
    "Let's create some fake data for two independent cells that respond to our\n",
    "stimulus "
   ]
  },
  {
   "cell_type": "code",
   "execution_count": null,
   "metadata": {
    "collapsed": true
   },
   "outputs": [],
   "source": [
    "# The first cell has an exponential filter with a 20 ms time constant\n",
    "th=1:100;\n",
    "h1 = exp(-th./25);\n",
    "resp1 = conv(stim,h1,'same');\n",
    "\n",
    "# The second cell has an exponential filter with a 30 ms time constant\n",
    "h2 = exp(-th./30);\n",
    "resp2 = conv(stim, h2, 'same');\n",
    "\n",
    "\n",
    "# Threshold and set stimulus driven rms to 14 spikes/s and\n",
    "# background to 1 spike/s\n",
    "resp1(resp1<0) = 0.0;\n",
    "resp2(resp2<0) = 0.0;\n",
    "resp1 = resp1.*((0.014)./std(resp1));\n",
    "resp2 = resp2.*((0.014)./std(resp2));  \n",
    "resp1 = resp1 + 0.001;   # Background rate set at 1 spike/s\n",
    "resp2 = resp2 +0.001;\n",
    "\n",
    "# Plot the average responses (resp1 and resp2) of the two cells for the first 200 points.\n",
    "figure(1);\n",
    "plot(resp1(1:200),'r');\n",
    "hold on;\n",
    "plot(resp2(1:200), 'b');\n",
    "xlabel('Time ms');\n",
    "ylabel('Firing Rate (spikes/ms)');\n",
    "hold off;"
   ]
  },
  {
   "cell_type": "code",
   "execution_count": null,
   "metadata": {
    "collapsed": true
   },
   "outputs": [],
   "source": [
    "## Calculate the granger causality on these mean rates\n",
    "maxlags = 50;\n",
    "alpha = 0.01;\n",
    "\n",
    "# Does resp1 cause resp2 ?\n",
    "[F,c_v] = granger_cause(resp2,resp1,alpha,maxlags);\n",
    "fprintf(1,'Testing neuron1 causing neuron2:\\n');\n",
    "if ( F < c_v)\n",
    "   fprintf(1,'Not significant: F = #.2f < #.2f\\n', F, c_v);\n",
    "else\n",
    "   fprintf(1,'Yes: F = #.2f > #.2f\\n', F, c_v);\n",
    "end"
   ]
  },
  {
   "cell_type": "markdown",
   "metadata": {},
   "source": [
    "# Exercise 1\n",
    " Does resp2 cause resp1 ?  Also check the effect of changing alpha."
   ]
  },
  {
   "cell_type": "code",
   "execution_count": null,
   "metadata": {
    "collapsed": true
   },
   "outputs": [],
   "source": [
    "## Now we're going to generate poisson spikes from these responses.\n",
    "# We are first going to generate independent spike trials\n",
    "meanfr = 15;   # poisson_gen assumes that the resp is a profile and will threhold it and adjust it to meanfr\n",
    "numTrials = 5;\n",
    "spiketimes1 = poisson_gen_spikes(resp1, meanfr, numTrials);\n",
    "spiketimes2 = poisson_gen_spikes(resp2, meanfr, numTrials);\n",
    "\n",
    "# Generate a psth for these spike arrival times and compare to\n",
    "# resp1 and resp2.\n",
    "psth1 = zeros(1, length(resp1));\n",
    "psth2 = zeros(1, length(resp2));\n",
    "resp1_trial = [];\n",
    "resp2_trial = [];\n",
    "\n",
    "for i=1:numTrials\n",
    "    trial = zeros(1, length(resp1));\n",
    "    trial(spiketimes1{i}) = 1;\n",
    "    psth1 = psth1 + trial;\n",
    "    resp1_trial = [resp1_trial trial];\n",
    "    trial = zeros(1, length(resp1));\n",
    "    trial(spiketimes2{i}) = 1;\n",
    "    resp2_trial = [resp2_trial trial];\n",
    "    psth2 = psth2 + trial;\n",
    "end\n",
    "\n",
    "psth1 = psth1./numTrials;\n",
    "psth2 = psth2./numTrials;\n",
    "\n",
    "# On the same figure 1, we plot the psth obtained from the two\n",
    "# neurons and compare to theoretical rate.\n",
    "figure(1);\n",
    "hold on;\n",
    "plot(psth1(1:200), 'r--');\n",
    "plot(psth2(1:200), 'b--');\n",
    "xlabel('Time (ms)');\n",
    "ylabel('Spikes/ms');\n",
    "hold off;"
   ]
  },
  {
   "cell_type": "markdown",
   "metadata": {},
   "source": [
    "# Exercise 2\n",
    "calculate the granger causality on the individual trials.\n",
    "Explain your results. How can you fix it?  Perform that fix?"
   ]
  },
  {
   "cell_type": "code",
   "execution_count": null,
   "metadata": {
    "collapsed": true
   },
   "outputs": [],
   "source": [
    "## We are now going to model two connected neurons\n",
    "# First we're going to generate poisson spikes from these responses.\n",
    "\n",
    "meanfr = 15;   # poisson_gen assumes that the resp is a profile and will threhold it and adjust it to meanfr\n",
    "spiketimes1 = poisson_gen_spikes(resp1, meanfr, numTrials);\n",
    "\n",
    "# Second Neuron 1 increases the probability of firing in neuron 2.\n",
    "th=1:25;\n",
    "hspike = zeros(1,27);\n",
    "hspike(3:27) = exp(-th./5);   # 2 ms delay and then exponential with 5 ms decay\n",
    "hspike = hspike./sum(hspike);\n",
    "w12 = 1;             # Connectivity weight: 1 is a one to one - one spike causes one spike\n",
    "\n",
    "psth2 = zeros(1, length(resp2));\n",
    "clear spiketimes2;\n",
    "resp2_trial = [];\n",
    "\n",
    "for i=1:numTrials\n",
    "    trial = zeros(1, length(resp1));\n",
    "    trial(spiketimes1{i}) = 1;\n",
    "    resp2_added = w12.*conv(trial,hspike,'full');\n",
    "    resp2_tot = resp2 + resp2_added(1:length(resp2));\n",
    "    spiketimes2(i) = poisson_gen_spikes(resp2_tot, meanfr, 1);\n",
    "    trial = zeros(1, length(resp1));\n",
    "    trial(spiketimes2{i}) = 1;\n",
    "    resp2_trial = [resp2_trial trial];\n",
    "    psth2 = psth2 + trial;\n",
    "end\n",
    "psth2 = psth2./numTrials;\n",
    "resp2_trial = resp2_trial - repmat(resp2, 1, numTrials);\n",
    "\n",
    "# Let's plot pairs of spike trains in the first 1000 ms.\n",
    "figure(2);\n",
    "for i = 1:numTrials\n",
    "    subplot(numTrials, 1, i);\n",
    "    hold on;\n",
    "    nspikes1 = length(spiketimes1{i});\n",
    "    for is=1:nspikes1\n",
    "        t1 = spiketimes1{i}(is);\n",
    "        if t1 > 1000\n",
    "            break;\n",
    "        end\n",
    "        plot([t1 t1], [0 1], 'k');\n",
    "    end\n",
    "    nspikes2 = length(spiketimes2{i});\n",
    "    for is=1:nspikes2\n",
    "        t2 = spiketimes2{i}(is);\n",
    "        if t2 > 1000\n",
    "            break;\n",
    "        end\n",
    "        plot([t2 t2], [0 1], 'r');\n",
    "    end\n",
    "    axis([0 1000 0 1]);\n",
    "    axis off;\n",
    "    hold off;\n",
    "end"
   ]
  },
  {
   "cell_type": "markdown",
   "metadata": {},
   "source": [
    "# Exercise 3\n",
    "Calculate the bi-directional granger causality for this connected case\n",
    " Does resp1 cause resp2 ? Explain the results."
   ]
  },
  {
   "cell_type": "code",
   "execution_count": null,
   "metadata": {
    "collapsed": true
   },
   "outputs": [],
   "source": [
    "## Now we are going to make neuron 2 a burster by simply adding spikes after\n",
    "# each of the current spikes in a little gaussian pulse.\n",
    "\n",
    "th=1:25;\n",
    "hburst = zeros(1,40);\n",
    "hburst = exp((th-20).^2./10^2);   # A gaussian pulse\n",
    "hburst = hburst./sum(hburst);\n",
    "w22 = 1;  # One will double the firing rate\n",
    "psth2 = zeros(1, length(resp2));\n",
    "resp2_trial = [];\n",
    "\n",
    "for i=1:numTrials\n",
    "    trial = zeros(1, length(resp1));\n",
    "    trial(spiketimes2{i}) = 1;\n",
    "    resp2_added = conv(trial,hburst,'full');\n",
    "    resp2_added = resp2_added(1:length(resp2));\n",
    "    spiketimes2_added(i) = poisson_gen_spikes(resp2_added, w22*meanfr, 1);\n",
    "    trial = zeros(1, length(resp1));\n",
    "    trial(spiketimes2{i}) = 1;\n",
    "    trial(spiketimes2_added{i}) = 1;\n",
    "    psth2 = psth2 + trial(1:length(resp2));\n",
    "    resp2_trial = [resp2_trial trial];\n",
    "end\n",
    "psth2 = psth2./numTrials;\n",
    "resp2_trial = resp2_trial - repmat(resp2, 1, numTrials);\n",
    "\n",
    "# Let's plot pairs of spike trains in the first 1000 ms.\n",
    "figure(3);\n",
    "for i = 1:numTrials\n",
    "    subplot(numTrials, 1, i);\n",
    "    \n",
    "    nspikes1 = length(spiketimes1{i});\n",
    "    for is=1:nspikes1\n",
    "        t1 = spiketimes1{i}(is);\n",
    "        if t1 > 1000\n",
    "            break;\n",
    "        end\n",
    "        plot([t1 t1], [0 1], 'k');\n",
    "        hold on;\n",
    "    end\n",
    "    nspikes2 = length(spiketimes2{i});\n",
    "    for is=1:nspikes2\n",
    "        t2 = spiketimes2{i}(is);\n",
    "        if t2 > 1000\n",
    "            break;\n",
    "        end\n",
    "        plot([t2 t2], [0 1], 'r');\n",
    "        hold on;\n",
    "    end\n",
    "    nspikes2 = length(spiketimes2_added{i});\n",
    "    for is=1:nspikes2\n",
    "        t2 = spiketimes2_added{i}(is);\n",
    "        if t2 > 1000\n",
    "            break;\n",
    "        end\n",
    "        plot([t2 t2], [0 1], 'g');\n",
    "        hold on;\n",
    "    end\n",
    "    axis([0 1000 0 1]);\n",
    "    axis off;\n",
    "    hold off;\n",
    "end"
   ]
  },
  {
   "cell_type": "markdown",
   "metadata": {},
   "source": [
    "# Exercise 4.\n",
    "Repeat the granger calculation for this example\n",
    " Does resp1 cause resp2 ? ."
   ]
  },
  {
   "cell_type": "code",
   "execution_count": null,
   "metadata": {
    "collapsed": true
   },
   "outputs": [],
   "source": []
  }
 ],
 "metadata": {
  "kernelspec": {
   "display_name": "Python 3",
   "language": "python",
   "name": "python3"
  },
  "language_info": {
   "codemirror_mode": {
    "name": "ipython",
    "version": 3
   },
   "file_extension": ".py",
   "mimetype": "text/x-python",
   "name": "python",
   "nbconvert_exporter": "python",
   "pygments_lexer": "ipython3",
   "version": "3.6.1"
  }
 },
 "nbformat": 4,
 "nbformat_minor": 2
}
