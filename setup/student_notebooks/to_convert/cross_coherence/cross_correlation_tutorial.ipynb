{
 "cells": [
  {
   "cell_type": "markdown",
   "metadata": {},
   "source": [
    "This exercise uses fake neurons to test the effectivemess of cross-correlation\n",
    "measures for assessing functional connectivity."
   ]
  },
  {
   "cell_type": "code",
   "execution_count": 1,
   "metadata": {
    "collapsed": true
   },
   "outputs": [],
   "source": [
    "import numpy as np"
   ]
  },
  {
   "cell_type": "code",
   "execution_count": 8,
   "metadata": {
    "collapsed": true
   },
   "outputs": [],
   "source": [
    "## Generate a stimulus\n",
    "tlength = 15000            # The stimulus last 15 seconds at 1kHz sampling rate\n",
    "stim = np.random.randn(tlength)    # It is gaussian WN"
   ]
  },
  {
   "cell_type": "markdown",
   "metadata": {},
   "source": [
    "Let's create some fake data for two independent cells that respond to our\n",
    "stimulus "
   ]
  },
  {
   "cell_type": "code",
   "execution_count": 11,
   "metadata": {
    "collapsed": true
   },
   "outputs": [],
   "source": [
    "# The first cell has an exponential filter with a 20 ms time constant\n",
    "th = np.arange(100)\n",
    "h1 = np.exp(-th / 20.)\n",
    "resp1 = np.convolve(stim, h1, 'same')\n",
    "\n",
    "# The second cell has an exponential filter with a 30 ms time constant\n",
    "h2 = np.exp(-th / 30.);\n",
    "resp2 = np.convolve(stim, h2, 'same')"
   ]
  },
  {
   "cell_type": "code",
   "execution_count": 12,
   "metadata": {
    "collapsed": true
   },
   "outputs": [],
   "source": [
    "# Threshold and set stimulus driven rms to 14 spikes/s and\n",
    "# background to 1 spike/s\n",
    "resp1[resp1 < 0] = 0\n",
    "resp2[resp2 < 0] = 0\n",
    "resp1 = resp1 * ((0.014) / np.std(resp1))\n",
    "resp2 = resp2 * ((0.014) / np.std(resp2))\n",
    "\n",
    "resp1 = resp1 + 0.001   # Background rate set at 1 spike/s\n",
    "resp2 = resp2 + 0.001"
   ]
  },
  {
   "cell_type": "markdown",
   "metadata": {},
   "source": [
    "# Exercise 1.\n",
    "Plot the average responses (resp1 and resp2) of the two cells \n",
    "for the first 200 points."
   ]
  },
  {
   "cell_type": "code",
   "execution_count": 13,
   "metadata": {
    "collapsed": true
   },
   "outputs": [],
   "source": [
    "## Now we're going to generate poisson spikes from these responses.\n",
    "# We are first going to generate independent spike trials\n",
    "meanfr = 15   # poisson_gen assumes that the resp is a profile and will threhold it and adjust it to meanfr\n",
    "numTrials = 10"
   ]
  },
  {
   "cell_type": "code",
   "execution_count": null,
   "metadata": {
    "collapsed": true
   },
   "outputs": [],
   "source": [
    "spiketimes1 = poisson_gen_spikes(resp1, meanfr, numTrials);\n",
    "spiketimes2 = poisson_gen_spikes(resp2, meanfr, numTrials);\n",
    "\n",
    "# Generate a psth for these spike arrival times and compare to\n",
    "# resp1 and resp2.\n",
    "psth1 = zeros(1, length(resp1));\n",
    "psth2 = zeros(1, length(resp2));\n",
    "\n",
    "for i=1:numTrials\n",
    "    trial = zeros(1, length(resp1));\n",
    "    trial(spiketimes1{i}) = 1;\n",
    "    psth1 = psth1 + trial;\n",
    "    trial = zeros(1, length(resp1));\n",
    "    trial(spiketimes2{i}) = 1;\n",
    "    psth2 = psth2 + trial;\n",
    "end\n",
    "\n",
    "psth1 = psth1./numTrials;\n",
    "psth2 = psth2./numTrials;"
   ]
  },
  {
   "cell_type": "code",
   "execution_count": null,
   "metadata": {
    "collapsed": true
   },
   "outputs": [],
   "source": [
    "## Exercise 2.  On the same figure 1, plot the psth obtained from your two\n",
    "# neurons and compare to theoretical rate."
   ]
  },
  {
   "cell_type": "code",
   "execution_count": null,
   "metadata": {
    "collapsed": true
   },
   "outputs": [],
   "source": [
    "## Calculate the cross-correlation.\n",
    "maxlags = 100;\n",
    "ccAll = zeros(1, 2*maxlags+1);\n",
    "\n",
    "for i=1:numTrials\n",
    "    trial1 = zeros(1, length(resp1));\n",
    "    trial1(spiketimes1{i}) = 1;\n",
    "\n",
    "    trial2 = zeros(1, length(resp1));\n",
    "    trial2(spiketimes2{i}) = 1;\n",
    "    ccAll = ccAll + xcorr(trial2, trial1, maxlags, 'Unbiased');\n",
    "end\n",
    "\n",
    "ccAll = ccAll./numTrials;\n",
    "\n",
    "## Exercise 3. Plot the cross-correlation on figure 2. Add labels to the x\n",
    "# and y axis.  What do you see?"
   ]
  },
  {
   "cell_type": "code",
   "execution_count": null,
   "metadata": {
    "collapsed": true
   },
   "outputs": [],
   "source": [
    "## Exercise 4. Repeat this calculation after removing the mean firing rate and plot on\n",
    "# figure 3. What has changed?"
   ]
  },
  {
   "cell_type": "code",
   "execution_count": null,
   "metadata": {
    "collapsed": true
   },
   "outputs": [],
   "source": [
    "## Exercise 5.  This time calculate the true cross-covariance by removing the\n",
    "# time varying mean firing rate.  Repeat this calculation after removing the mean firing rate and plot on\n",
    "# a new figure 4. Use the same y-scale as in figure 3. What do you observe?"
   ]
  },
  {
   "cell_type": "code",
   "execution_count": null,
   "metadata": {
    "collapsed": true
   },
   "outputs": [],
   "source": [
    "## We are now going to model two connected neurons\n",
    "\n",
    "# Neuron 1 increases the probability of firing in neuron 2.\n",
    "th=1:25;\n",
    "hspike = zeros(1,27);\n",
    "hspike(3:27) = exp(-th./5);   # 2 ms delay and then exponential with 5 ms decay\n",
    "hspike = hspike./sum(hspike);\n",
    "w12 = 1;             # Connectivity weight: 1 is a one to one - one spike causes one spike\n",
    "\n",
    "\n",
    "psth2 = zeros(1, length(resp2));\n",
    "clear spiketimes2;\n",
    "\n",
    "for i=1:numTrials\n",
    "    trial = zeros(1, length(resp1));\n",
    "    trial(spiketimes1{i}) = 1;\n",
    "    resp2_trial = w12.*conv(trial,hspike,'full');\n",
    "    resp2_tot = resp2 + resp2_trial(1:length(resp2));\n",
    "    spiketimes2(i) = poisson_gen_spikes(resp2_tot, meanfr, 1);\n",
    "    trial = zeros(1, length(resp1));\n",
    "    trial(spiketimes2{i}) = 1;\n",
    "    psth2 = psth2 + trial;\n",
    "end\n",
    "psth2 = psth2./numTrials;\n",
    "\n",
    "# Let's plot pairs of spike trains in the first 1000 ms.\n",
    "figure(5);\n",
    "for i = 1:numTrials\n",
    "    subplot(numTrials, 1, i);\n",
    "    hold on;\n",
    "    nspikes1 = length(spiketimes1{i});\n",
    "    for is=1:nspikes1\n",
    "        t1 = spiketimes1{i}(is);\n",
    "        if t1 > 1000\n",
    "            break;\n",
    "        end\n",
    "        plot([t1 t1], [0 1], 'k');\n",
    "    end\n",
    "    nspikes2 = length(spiketimes2{i});\n",
    "    for is=1:nspikes2\n",
    "        t2 = spiketimes2{i}(is);\n",
    "        if t2 > 1000\n",
    "            break;\n",
    "        end\n",
    "        plot([t2 t2], [0 1], 'r');\n",
    "    end\n",
    "    axis([0 1000 0 1]);\n",
    "    axis off;\n",
    "    hold off;\n",
    "end"
   ]
  },
  {
   "cell_type": "code",
   "execution_count": null,
   "metadata": {
    "collapsed": true
   },
   "outputs": [],
   "source": [
    "## Exercise 6. Calculate and plot the cross-correlation and cross-covariance \n",
    "# on the same new figure (figure 6)"
   ]
  },
  {
   "cell_type": "code",
   "execution_count": null,
   "metadata": {
    "collapsed": true
   },
   "outputs": [],
   "source": [
    "## Exercise 7. You are going to normalize the cross-covariance to obtain \n",
    "# the cross-cohenrency.  To do so you will divide by the auto-correlation\n",
    "# of each spike train in the Fourier Domain.\n",
    "# Plot the auto-covariance on figure 7 and the coherency on figure 8.\n",
    "\n",
    "# Calculate the auto-correlations (time varying mean subtracted)"
   ]
  },
  {
   "cell_type": "code",
   "execution_count": null,
   "metadata": {
    "collapsed": true
   },
   "outputs": [],
   "source": [
    "## Now we are going to make neuron 2 a burster by simply adding spikes after\n",
    "# each of the current spikes in a little gaussian pulse.\n",
    "\n",
    "th=1:25;\n",
    "hburst = zeros(1,40);\n",
    "hburst = exp((th-20).^2./10^2);   # A gaussian pulse\n",
    "hburst = hburst./sum(hburst);\n",
    "w22 = 1;  # One will double the firing rate\n",
    "psth2 = zeros(1, length(resp2));\n",
    "\n",
    "for i=1:numTrials\n",
    "    trial = zeros(1, length(resp1));\n",
    "    trial(spiketimes2{i}) = 1;\n",
    "    resp2_trial = conv(trial,hburst,'full');\n",
    "    spiketimes2_added(i) = poisson_gen_spikes(resp2_trial, w22*meanfr, 1);\n",
    "    trial = zeros(1, length(resp1));\n",
    "    trial(spiketimes2{i}) = 1;\n",
    "    trial(spiketimes2_added{i}) = 1;\n",
    "    psth2 = psth2 + trial;\n",
    "end\n",
    "psth2 = psth2./numTrials;\n",
    "\n",
    "# Let's plot pairs of spike trains in the first 1000 ms.\n",
    "figure(9);\n",
    "for i = 1:numTrials\n",
    "    subplot(numTrials, 1, i);\n",
    "    \n",
    "    nspikes1 = length(spiketimes1{i});\n",
    "    for is=1:nspikes1\n",
    "        t1 = spiketimes1{i}(is);\n",
    "        if t1 > 1000\n",
    "            break;\n",
    "        end\n",
    "        plot([t1 t1], [0 1], 'k');\n",
    "        hold on;\n",
    "    end\n",
    "    nspikes2 = length(spiketimes2{i});\n",
    "    for is=1:nspikes2\n",
    "        t2 = spiketimes2{i}(is);\n",
    "        if t2 > 1000\n",
    "            break;\n",
    "        end\n",
    "        plot([t2 t2], [0 1], 'r');\n",
    "        hold on;\n",
    "    end\n",
    "    nspikes2 = length(spiketimes2_added{i});\n",
    "    for is=1:nspikes2\n",
    "        t2 = spiketimes2_added{i}(is);\n",
    "        if t2 > 1000\n",
    "            break;\n",
    "        end\n",
    "        plot([t2 t2], [0 1], 'g');\n",
    "        hold on;\n",
    "    end\n",
    "    axis([0 1000 0 1]);\n",
    "    axis off;\n",
    "    hold off;\n",
    "end"
   ]
  },
  {
   "cell_type": "code",
   "execution_count": null,
   "metadata": {
    "collapsed": true
   },
   "outputs": [],
   "source": [
    "## Exercise 8.  Repeat exercise 5 and exercise 6 for this new scenario:\n",
    "# Calculate the cross-correlation, cross-covariance, auto-covariance and \n",
    "# cross-coherency. Plot on new figures as in 5 and 6 but give variables\n",
    "# a different name so that you can also compare the cross-covariance and\n",
    "# the cross-coherence on a final summary figure"
   ]
  }
 ],
 "metadata": {
  "kernelspec": {
   "display_name": "Python 3",
   "language": "python",
   "name": "python3"
  },
  "language_info": {
   "codemirror_mode": {
    "name": "ipython",
    "version": 3
   },
   "file_extension": ".py",
   "mimetype": "text/x-python",
   "name": "python",
   "nbconvert_exporter": "python",
   "pygments_lexer": "ipython3",
   "version": "3.6.1"
  }
 },
 "nbformat": 4,
 "nbformat_minor": 2
}
