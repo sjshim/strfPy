{
 "cells": [
  {
   "cell_type": "markdown",
   "metadata": {},
   "source": [
    "# This notebook generates files for the student version of this repository.\n",
    "First this repository must be downloaded / cloned to your computer, ideally in the same folder as this repo."
   ]
  },
  {
   "cell_type": "code",
   "execution_count": 1,
   "metadata": {},
   "outputs": [],
   "source": [
    "from nbclean import NotebookCleaner\n",
    "import os\n",
    "from glob import glob\n",
    "import shutil as sh\n",
    "import os.path as op"
   ]
  },
  {
   "cell_type": "code",
   "execution_count": 2,
   "metadata": {},
   "outputs": [],
   "source": [
    "path_student_repo = op.join('..', '..', 'crcns-student')\n",
    "if not os.path.exists(path_student_repo):\n",
    "    raise ValueError('Save repo should be cloned to the folder you wish *before* running this code.')\n",
    "    \n",
    "# Clean all the old files in the student folder\n",
    "old_files = glob(op.join(path_student_repo, '*'))\n",
    "\n",
    "# XXX THIS WILL DELETE FILES MAKE SURE IT'S WHAT YOU WANT TO DO\n",
    "for ifile in old_files:\n",
    "    if op.isdir(ifile):\n",
    "        sh.rmtree(ifile)\n",
    "    else:\n",
    "        os.remove(ifile)"
   ]
  },
  {
   "cell_type": "markdown",
   "metadata": {},
   "source": [
    "# Define files we wish to move.\n",
    "We'll move in separate chunks (root folder, matlab, and python `ipynb` files)"
   ]
  },
  {
   "cell_type": "code",
   "execution_count": 3,
   "metadata": {},
   "outputs": [],
   "source": [
    "files_root = ['../environment.yml', '../README.rst', '../download_data.py',\n",
    "              '../.gitignore']\n",
    "files_matlab = '../matlab/*'\n",
    "files_python = ['../python/exercise-direct_fit.ipynb',\n",
    "                '../python/tutorial-coherence.ipynb',\n",
    "                '../python/exercise-gradient_descent.ipynb',\n",
    "                '../python/exercise-logistic_regression.ipynb',\n",
    "                '../python/getting_started.ipynb']"
   ]
  },
  {
   "cell_type": "markdown",
   "metadata": {},
   "source": [
    "# Move the non-python files"
   ]
  },
  {
   "cell_type": "code",
   "execution_count": 4,
   "metadata": {},
   "outputs": [],
   "source": [
    "# First the root files\n",
    "for ifile in files_root:\n",
    "    filename = os.path.basename(ifile)\n",
    "    sh.copy(ifile, op.join(path_student_repo, filename))"
   ]
  },
  {
   "cell_type": "code",
   "execution_count": 5,
   "metadata": {},
   "outputs": [],
   "source": [
    "# Now the Matlab files\n",
    "for ifile in glob(files_matlab):\n",
    "    filename = os.path.basename(ifile)\n",
    "    if filename == 'pdfs':\n",
    "        # Skip PDFs\n",
    "        continue\n",
    "    if os.path.isdir(ifile):\n",
    "        sh.copytree(ifile, op.join(path_student_repo, 'matlab', filename))\n",
    "    else:\n",
    "        sh.copy(ifile, op.join(path_student_repo, 'matlab', filename))"
   ]
  },
  {
   "cell_type": "markdown",
   "metadata": {},
   "source": [
    "# Now clean / move the jupyter notebooks"
   ]
  },
  {
   "cell_type": "code",
   "execution_count": 6,
   "metadata": {},
   "outputs": [
    {
     "name": "stdout",
     "output_type": "stream",
     "text": [
      "Converting 5 notebooks\n"
     ]
    }
   ],
   "source": [
    "print('Converting {} notebooks'.format(len(files_python)))"
   ]
  },
  {
   "cell_type": "code",
   "execution_count": 7,
   "metadata": {
    "scrolled": true
   },
   "outputs": [
    {
     "name": "stdout",
     "output_type": "stream",
     "text": [
      "exercise-direct_fit.ipynb\n",
      "tutorial-coherence.ipynb\n",
      "exercise-gradient_descent.ipynb\n",
      "exercise-logistic_regression.ipynb\n",
      "getting_started.ipynb\n"
     ]
    }
   ],
   "source": [
    "for notebook in files_python:\n",
    "    filename = os.path.basename(notebook)\n",
    "    print(filename)\n",
    "    \n",
    "    path_save = op.join(path_student_repo, 'python', filename)\n",
    "    \n",
    "    # Replace answers and clear outputs\n",
    "    cleaner = NotebookCleaner(notebook)\n",
    "    cleaner.replace_text('## SOLUTION BEGIN', '## SOLUTION END')\n",
    "    cleaner.clear(kind='output', tag='hide_output')\n",
    "    \n",
    "    # Save to this folder\n",
    "    cleaner.save(path_save)"
   ]
  },
  {
   "cell_type": "code",
   "execution_count": null,
   "metadata": {},
   "outputs": [],
   "source": []
  }
 ],
 "metadata": {
  "kernelspec": {
   "display_name": "Python 3",
   "language": "python",
   "name": "python3"
  },
  "language_info": {
   "codemirror_mode": {
    "name": "ipython",
    "version": 3
   },
   "file_extension": ".py",
   "mimetype": "text/x-python",
   "name": "python",
   "nbconvert_exporter": "python",
   "pygments_lexer": "ipython3",
   "version": "3.6.5"
  }
 },
 "nbformat": 4,
 "nbformat_minor": 2
}
